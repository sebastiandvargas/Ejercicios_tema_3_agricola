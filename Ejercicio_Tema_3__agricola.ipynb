{
  "nbformat": 4,
  "nbformat_minor": 0,
  "metadata": {
    "colab": {
      "provenance": [],
      "include_colab_link": true
    },
    "kernelspec": {
      "name": "python3",
      "display_name": "Python 3"
    },
    "language_info": {
      "name": "python"
    }
  },
  "cells": [
    {
      "cell_type": "markdown",
      "metadata": {
        "id": "view-in-github",
        "colab_type": "text"
      },
      "source": [
        "<a href=\"https://colab.research.google.com/github/sebastiandvargas/Ejercicios_tema_3_agricola/blob/main/Ejercicio_Tema_3__agricola.ipynb\" target=\"_parent\"><img src=\"https://colab.research.google.com/assets/colab-badge.svg\" alt=\"Open In Colab\"/></a>"
      ]
    },
    {
      "cell_type": "markdown",
      "source": [
        "# **Tema_3 Variables Expresiones y Sentencias**"
      ],
      "metadata": {
        "id": "Hh9tbD1AvnqD"
      }
    },
    {
      "cell_type": "markdown",
      "source": [
        "# ***Copiar el notebook en Google Drive y en GitHub***"
      ],
      "metadata": {
        "id": "Bw5fbQ9334AA"
      }
    },
    {
      "cell_type": "markdown",
      "source": [
        "## **Introducción**\n",
        "\n",
        "En este Notebook, exploraremos los conceptos básicos de la programación en Python. Python es un lenguaje de programación versátil y fácil de aprender que se utiliza en una amplia variedad de campos, desde la ciencia de datos hasta la inteligencia artificial.\n",
        "\n",
        "En esta sección, nos enfocaremos en los conceptos fundamentales de la programación en Python, incluyendo variables y tipos de datos, funciones print() e input(), operadores y operandos, expresiones y sentencias, y precedencia de operaciones."
      ],
      "metadata": {
        "id": "xDL9eGHDwV7r"
      }
    },
    {
      "cell_type": "markdown",
      "source": [
        "## **Variables y Tipos de datos**\n",
        "\n",
        "En programación, una variable es un contenedor que almacena un valor. En Python, hay diferentes tipos de variables, como enteros, flotantes y strings. En esta sección, exploraremos cómo declarar y utilizar variables en Python, así como cómo convertir entre diferentes tipos de datos utilizando funciones como float(), int() y str()."
      ],
      "metadata": {
        "id": "iVk5GMQewdbB"
      }
    },
    {
      "cell_type": "code",
      "source": [
        "# Variables y Tipos de datos\n",
        "\n",
        "# Declaración de variables\n",
        "mi_variable = 5  # entero\n",
        "mi_variable_flotante = 3.14  # flotante\n",
        "mi_variable_string = \"Hola, mundo!\"  # string\n",
        "\n",
        "print(mi_variable)\n",
        "print(mi_variable_flotante)\n",
        "print(mi_variable_string)"
      ],
      "metadata": {
        "id": "t6DIl1Gmvosh"
      },
      "execution_count": null,
      "outputs": []
    },
    {
      "cell_type": "code",
      "source": [],
      "metadata": {
        "id": "1hZgO9wT00Sj"
      },
      "execution_count": null,
      "outputs": []
    },
    {
      "cell_type": "code",
      "source": [
        "# Uso de funciones para convertir tipos de datos\n",
        "mi_variable_entero = int(3.14)\n",
        "mi_variable_flotante = float(5)\n",
        "mi_variable_string = str(3.14)\n",
        "\n",
        "print(mi_variable_entero)\n",
        "print(mi_variable_flotante)\n",
        "print(mi_variable_string)"
      ],
      "metadata": {
        "id": "ofPL61cDxOVM"
      },
      "execution_count": null,
      "outputs": []
    },
    {
      "cell_type": "code",
      "source": [],
      "metadata": {
        "id": "wkLvLQxZ011c"
      },
      "execution_count": null,
      "outputs": []
    },
    {
      "cell_type": "markdown",
      "source": [
        "## **Funciones print() e input()**\n",
        "\n",
        "Las funciones print() e input() son fundamentales en la programación en Python. La función print() se utiliza para imprimir texto y valores en la pantalla, mientras que la función input() se utiliza para obtener información del usuario. En esta sección, exploraremos cómo utilizar estas funciones para interactuar con el usuario y mostrar resultados."
      ],
      "metadata": {
        "id": "KC0pBM1HwpE6"
      }
    },
    {
      "cell_type": "code",
      "source": [
        "# Funciones print() e input()\n",
        "\n",
        "# Uso de la función print()\n",
        "print(\"Hola, mundo!\")"
      ],
      "metadata": {
        "id": "K05MyYEIwDj-"
      },
      "execution_count": null,
      "outputs": []
    },
    {
      "cell_type": "code",
      "source": [],
      "metadata": {
        "id": "qcK6BHrh02xf"
      },
      "execution_count": null,
      "outputs": []
    },
    {
      "cell_type": "code",
      "source": [
        "# Uso de la función input()\n",
        "nombre = input(\"¿Cuál es tu nombre? \")\n",
        "print(\"Hola, \" + nombre + \"!\")"
      ],
      "metadata": {
        "id": "2e1UxRIAxaN2"
      },
      "execution_count": null,
      "outputs": []
    },
    {
      "cell_type": "code",
      "source": [],
      "metadata": {
        "id": "D8G7jMq403eb"
      },
      "execution_count": null,
      "outputs": []
    },
    {
      "cell_type": "code",
      "source": [
        "# Uso de la función input() con un mensaje personalizado\n",
        "edad = input(\"¿Cuántos años tienes? \")\n",
        "print(\"Tienes \" + edad + \" años.\")"
      ],
      "metadata": {
        "id": "BeVTWkcwxcUP"
      },
      "execution_count": null,
      "outputs": []
    },
    {
      "cell_type": "code",
      "source": [],
      "metadata": {
        "id": "5OkmjmGd04I_"
      },
      "execution_count": null,
      "outputs": []
    },
    {
      "cell_type": "markdown",
      "source": [
        "## **Operadores y operandos, Expresiones y sentencias y precedencia de operaciones**\n",
        "\n",
        "En programación, los operadores y operandos se utilizan para realizar cálculos y comparaciones. En Python, hay diferentes tipos de operadores, como aritméticos, de comparación y lógicos. En esta sección, exploraremos cómo utilizar estos operadores para realizar cálculos y comparaciones, así como cómo utilizar paréntesis para controlar la precedencia de operaciones.\n",
        "\n",
        "¡Claro! Aquí te dejo las definiciones de expresiones y sentencias en el contexto de la programación:\n",
        "\n",
        "**Expresiones**\n",
        "\n",
        "Una **expresión** es **una combinación de valores, variables y operadores que se evalúa para producir un resultado**. En otras palabras, una expresión es una secuencia de símbolos que se pueden evaluar para obtener un valor.\n",
        "\n",
        "Por ejemplo, en la expresión `2 + 3 * 4`, se están utilizando los valores `2`, `3` y `4`, junto con los operadores `+` y `*`, para producir un resultado. El resultado de esta expresión sería `14`.\n",
        "\n",
        "Las expresiones pueden ser simples, como `x + 5`, o complejas, como `(x + 5) * (y - 3)`. En general, las expresiones se utilizan para realizar cálculos y manipular datos en un programa.\n",
        "\n",
        "**Sentencias**\n",
        "\n",
        "Una **sentencia** **es una unidad de código que se ejecuta como una sola instrucción**. En otras palabras, una sentencia es una secuencia de símbolos que se ejecuta para producir un efecto específico.\n",
        "\n",
        "Por ejemplo, en la sentencia `x = 5`, se está asignando el valor `5` a la variable `x`. En la sentencia `print(\"Hola, mundo!\")`, se está imprimiendo el mensaje \"Hola, mundo!\" en la pantalla.\n",
        "\n",
        "Las sentencias pueden ser simples, como `x = 5`, o complejas, como `if x > 5: print(\"x es mayor que 5\")`. En general, las sentencias se utilizan para controlar el flujo de un programa, realizar cálculos y manipular datos.\n",
        "\n",
        "En resumen, las expresiones se utilizan para producir un resultado, mientras que las sentencias se utilizan para producir un efecto específico. Las expresiones se pueden utilizar dentro de sentencias para realizar cálculos y manipular datos.\n",
        "\n",
        "Aquí hay un ejemplo que ilustra la diferencia entre expresiones y sentencias:\n",
        "```\n",
        "x = 5  # sentencia\n",
        "y = x + 3  # sentencia que utiliza una expresión\n",
        "print(y)  # sentencia que utiliza una expresión\n",
        "```\n",
        "En este ejemplo, `x = 5` es una sentencia que asigna el valor `5` a la variable `x`. `y = x + 3` es una sentencia que utiliza una expresión (`x + 3`) para producir un resultado, que se asigna a la variable `y`. `print(y)` es una sentencia que utiliza una expresión (`y`) para producir un efecto específico (imprimir el valor de `y` en la pantalla)."
      ],
      "metadata": {
        "id": "gxBnnGXqwuNK"
      }
    },
    {
      "cell_type": "code",
      "source": [
        "# Operadores y operandos, Expresiones y sentencias y precedencia de operaciones\n",
        "\n",
        "# Operadores aritméticos\n",
        "a = 5\n",
        "b = 3\n",
        "print(a + b)  # suma\n",
        "print(a - b)  # resta\n",
        "print(a * b)  # multiplicación\n",
        "print(a / b)  # división"
      ],
      "metadata": {
        "id": "NIiwcZUXwy4x"
      },
      "execution_count": null,
      "outputs": []
    },
    {
      "cell_type": "code",
      "source": [],
      "metadata": {
        "id": "-Ee-oIii05Nn"
      },
      "execution_count": null,
      "outputs": []
    },
    {
      "cell_type": "code",
      "source": [
        "# Operadores de comparación\n",
        "a = 5\n",
        "b = 3\n",
        "print(a > b)  # mayor que\n",
        "print(a < b)  # menor que\n",
        "print(a == b)  # igual que\n",
        "print(a!= b)  # distinto que"
      ],
      "metadata": {
        "id": "EsJc5SQ3xkKX"
      },
      "execution_count": null,
      "outputs": []
    },
    {
      "cell_type": "code",
      "source": [],
      "metadata": {
        "id": "7bXPumIK06v3"
      },
      "execution_count": null,
      "outputs": []
    },
    {
      "cell_type": "code",
      "source": [
        "# Operadores lógicos\n",
        "a = True\n",
        "b = False\n",
        "print(a and b)  # y lógico\n",
        "print(a or b)  # o lógico\n",
        "print(not a)  # no lógico"
      ],
      "metadata": {
        "id": "PhWwxHwOxm1y"
      },
      "execution_count": null,
      "outputs": []
    },
    {
      "cell_type": "code",
      "source": [],
      "metadata": {
        "id": "lNSlJ2EN07Yk"
      },
      "execution_count": null,
      "outputs": []
    },
    {
      "cell_type": "code",
      "source": [
        "# Precedencia de operaciones\n",
        "a = 5\n",
        "b = 3\n",
        "c = 2\n",
        "print(a + b * c)  # suma y multiplicación\n",
        "print((a + b) * c)  # suma y multiplicación con paréntesis"
      ],
      "metadata": {
        "id": "amQlGz4ixpn_"
      },
      "execution_count": null,
      "outputs": []
    },
    {
      "cell_type": "code",
      "source": [],
      "metadata": {
        "id": "yRZloHak078E"
      },
      "execution_count": null,
      "outputs": []
    },
    {
      "cell_type": "markdown",
      "source": [
        "# **Módulos en Python**\n",
        "\n",
        "En Python, un módulo es un archivo que contiene un conjunto de funciones, variables y clases que se pueden utilizar en otros programas. Los módulos permiten reutilizar código y hacer que los programas sean más modulares y fáciles de mantener."
      ],
      "metadata": {
        "id": "hx3WKmrsyxlm"
      }
    },
    {
      "cell_type": "markdown",
      "source": [
        "## **Módulo math**\n",
        "\n",
        "El módulo math es un módulo estándar de Python que proporciona funciones para realizar operaciones matemáticas. En este Notebook, exploraremos algunas de las funciones más comunes del módulo math y cómo se pueden utilizar para realizar cálculos."
      ],
      "metadata": {
        "id": "PnmZ4Te-2gbh"
      }
    },
    {
      "cell_type": "markdown",
      "source": [
        "## Variables y Tipos de datos\n",
        "\n",
        "En programación, una variable es un contenedor que almacena un valor. En Python, hay diferentes tipos de variables, como enteros, flotantes y strings. En esta sección, exploraremos cómo declarar y utilizar variables en Python, así como cómo convertir entre diferentes tipos de datos utilizando funciones como float(), int() y str()."
      ],
      "metadata": {
        "id": "YiKTMHa8zDKC"
      }
    },
    {
      "cell_type": "code",
      "source": [
        "import math\n",
        "\n",
        "# Declaración de variables\n",
        "pi = math.pi\n",
        "e = math.e\n",
        "\n",
        "print(pi)\n",
        "print(e)"
      ],
      "metadata": {
        "id": "YynMZfwlzFdI"
      },
      "execution_count": null,
      "outputs": []
    },
    {
      "cell_type": "code",
      "source": [],
      "metadata": {
        "id": "rzalzy9U1Bgy"
      },
      "execution_count": null,
      "outputs": []
    },
    {
      "cell_type": "code",
      "source": [
        "# Uso de funciones para convertir tipos de datos\n",
        "mi_variable_entero = int(math.pi)\n",
        "mi_variable_flotante = float(math.pi)\n",
        "\n",
        "print(mi_variable_entero)\n",
        "print(mi_variable_flotante)"
      ],
      "metadata": {
        "id": "UbBwhrrrzMfc"
      },
      "execution_count": null,
      "outputs": []
    },
    {
      "cell_type": "code",
      "source": [],
      "metadata": {
        "id": "r6xNNB_t1CIP"
      },
      "execution_count": null,
      "outputs": []
    },
    {
      "cell_type": "markdown",
      "source": [
        "## Funciones print() e input()\n",
        "\n",
        "Las funciones print() e input() son fundamentales en la programación en Python. La función print() se utiliza para imprimir texto y valores en la pantalla, mientras que la función input() se utiliza para obtener información del usuario. En esta sección, exploraremos cómo utilizar estas funciones para interactuar con el usuario y mostrar resultados."
      ],
      "metadata": {
        "id": "jAd3d8S9zNgM"
      }
    },
    {
      "cell_type": "code",
      "source": [],
      "metadata": {
        "id": "ibB1W8SL1C3y"
      },
      "execution_count": null,
      "outputs": []
    },
    {
      "cell_type": "code",
      "source": [
        "import math\n",
        "\n",
        "# Uso de la función print()\n",
        "print(\"El valor de pi es:\", math.pi)"
      ],
      "metadata": {
        "id": "zQK82T_6zTc6"
      },
      "execution_count": null,
      "outputs": []
    },
    {
      "cell_type": "code",
      "source": [
        "# Formato f"
      ],
      "metadata": {
        "id": "95ndiazs2uko"
      },
      "execution_count": null,
      "outputs": []
    },
    {
      "cell_type": "code",
      "source": [
        "# Uso de la función input()\n",
        "radio = float(input(\"Ingrese el radio de un círculo: \"))\n",
        "area = math.pi * radio ** 2\n",
        "print(\"El área del círculo es:\", area)"
      ],
      "metadata": {
        "id": "xVeOsmZbzY77"
      },
      "execution_count": null,
      "outputs": []
    },
    {
      "cell_type": "code",
      "source": [],
      "metadata": {
        "id": "bwVfL7Rn1ET7"
      },
      "execution_count": null,
      "outputs": []
    },
    {
      "cell_type": "markdown",
      "source": [
        "## Operadores y operandos, Expresiones y sentencias y precedencia de operaciones\n",
        "\n",
        "En programación, los operadores y operandos se utilizan para realizar cálculos y comparaciones. En Python, hay diferentes tipos de operadores, como aritméticos, de comparación y lógicos. En esta sección, exploraremos cómo utilizar estos operadores para realizar cálculos y comparaciones, así como cómo utilizar paréntesis para controlar la precedencia de operaciones."
      ],
      "metadata": {
        "id": "I083QmXfzZyb"
      }
    },
    {
      "cell_type": "code",
      "source": [
        "import math\n",
        "\n",
        "# Uso de operadores aritméticos con exponenciales\n",
        "a = math.pi\n",
        "b = 2\n",
        "print(a ** b)  # potencia\n",
        "print(math.exp(a))  # exponencial\n",
        "print(math.pow(a, b))  # potencia con dos operandos"
      ],
      "metadata": {
        "id": "GekNKZ43zn7t"
      },
      "execution_count": null,
      "outputs": []
    },
    {
      "cell_type": "code",
      "source": [],
      "metadata": {
        "id": "gQ-h_BSz1FI-"
      },
      "execution_count": null,
      "outputs": []
    },
    {
      "cell_type": "code",
      "source": [
        "# Uso de funciones trigonométricas\n",
        "a = math.pi / 2\n",
        "print(math.sin(a))  # seno\n",
        "print(math.cos(a))  # coseno\n",
        "print(math.tan(a))  # tangente\n",
        "# Son correctos los cálculos anteriores?"
      ],
      "metadata": {
        "id": "0c_7QA4W0cVr"
      },
      "execution_count": null,
      "outputs": []
    },
    {
      "cell_type": "code",
      "source": [],
      "metadata": {
        "id": "fLLD31Mf1FqS"
      },
      "execution_count": null,
      "outputs": []
    },
    {
      "cell_type": "code",
      "source": [
        "# Uso de operadores de comparación con resultados de funciones trigonométricas\n",
        "a = math.pi / 2\n",
        "b = math.sin(a)\n",
        "print(b > 0.5)  # mayor que\n",
        "print(b < 0.5)  # menor que\n",
        "print(b == 0.5)  # igual que\n",
        "print(b!= 0.5)  # distinto que"
      ],
      "metadata": {
        "id": "99mFrprQ0gA0"
      },
      "execution_count": null,
      "outputs": []
    },
    {
      "cell_type": "code",
      "source": [],
      "metadata": {
        "id": "5-P880Ev1GOu"
      },
      "execution_count": null,
      "outputs": []
    },
    {
      "cell_type": "code",
      "source": [
        "# Uso de operadores lógicos con resultados de funciones trigonométricas\n",
        "a = math.pi / 2\n",
        "b = math.sin(a)\n",
        "c = math.cos(a)\n",
        "print(b > 0.5 and c < 0.5)  # y lógico\n",
        "print(b > 0.5 or c < 0.5)  # o lógico\n",
        "print(not b > 0.5)  # no lógico"
      ],
      "metadata": {
        "id": "c6lit2KI0i4I"
      },
      "execution_count": null,
      "outputs": []
    },
    {
      "cell_type": "code",
      "source": [],
      "metadata": {
        "id": "41uUpRXQ1G2z"
      },
      "execution_count": null,
      "outputs": []
    },
    {
      "cell_type": "code",
      "source": [
        "# Uso de paréntesis para controlar la precedencia de operaciones con funciones trigonométricas\n",
        "a = math.pi / 2\n",
        "b = math.sin(a)\n",
        "c = math.cos(a)\n",
        "print((b + c) ** 2)  # suma y potencia con paréntesis\n",
        "print(b ** 2 + c ** 2)  # potencia y suma sin paréntesis"
      ],
      "metadata": {
        "id": "myFrSFzH0k3R"
      },
      "execution_count": null,
      "outputs": []
    },
    {
      "cell_type": "code",
      "source": [],
      "metadata": {
        "id": "_8yBOsSs1Hhs"
      },
      "execution_count": null,
      "outputs": []
    },
    {
      "cell_type": "markdown",
      "source": [
        "# **Ejercicios**"
      ],
      "metadata": {
        "id": "Sp7ueq1n1W4E"
      }
    },
    {
      "cell_type": "markdown",
      "source": [
        "## Ejercicio 1: Desarrolle un programa que calcule el área de un triángulo"
      ],
      "metadata": {
        "id": "UZlSgv1i1eH6"
      }
    },
    {
      "cell_type": "code",
      "source": [],
      "metadata": {
        "id": "iwewLMdI1wFf"
      },
      "execution_count": null,
      "outputs": []
    },
    {
      "cell_type": "markdown",
      "source": [
        "## Ejercicio 2: Desarrolle un programa que calcule el perímetro de un cuadrado"
      ],
      "metadata": {
        "id": "PPW4NLof1vLW"
      }
    },
    {
      "cell_type": "code",
      "source": [],
      "metadata": {
        "id": "Vd4Odxwg155e"
      },
      "execution_count": null,
      "outputs": []
    },
    {
      "cell_type": "markdown",
      "source": [
        "## Ejercicio 3 Construcción de Ventanas\n",
        "\n",
        "[UN SIMPLE PROBLEMA: CONSTRUCCION DE VENTANAS ](https://docs.google.com/document/d/15DZ-QVMJnQAoL38Ln7DRBa-as9Z4M5R0/edit?usp=sharing&ouid=115090580121117021820&rtpof=true&sd=true)\n",
        "\n"
      ],
      "metadata": {
        "id": "EI4FrVBKJfEs"
      }
    },
    {
      "cell_type": "markdown",
      "source": [
        "**UN SIMPLE PROBLEMA: CONSTRUCCION DE VENTANAS**\n",
        "\n",
        "Rob Miles CSharp Yellow Book 2012 © Rob Miles 2011 Department of Computer Science, The University of Hull.\n",
        "\n",
        "**PLANTEAMIENTO DEL PROBLEMA**\n",
        "\n",
        " Se requiere desarrollar un aplicativo que calcule los costos de materiales de un fabricante de ventanas. El fabricante desea ingresar las dimensiones de la ventana a fabricar, en metros, y a partir de allí el aplicativo deberá generar una salida de los costos para fabricar la ventana en términos de la cantidad de madera y vidrio necesario. El fabricante compra la madera en pies de longitud (1 m=3.25”). El programa deberá dar la longitud de la madera necesaria en pies de longitud.\n",
        "PROBANDO EL PROGRAMA. Si deseo una ventana de 2 metros de alto y 1 metro de ancho, el programa debería decirme que necesito 4 metros cuadrados de vidrio y 19.5 pies de madera.\n",
        "\n",
        "**PONIENDO MAS DETALLES**\n",
        "\n",
        "1. El fabricante desea que el programa controle las siguientes restricciones:\n",
        "2. El área del vidrio requerido para la ventana debe ser en metros cuadrados.\n",
        "3. Las ventanas son de doble vidrio, de modo que cada ventana requiere dos láminas.\n",
        "4. La longitud de la madera requerida para el marco debe ser dada en pies."
      ],
      "metadata": {
        "id": "si31oW4apPao"
      }
    },
    {
      "cell_type": "code",
      "source": [
        "# prompt: escribe un codigo en python que resuelva \"UN SIMPLE PROBLEMA: CONSTRUCCION DE VENTANAS\", no utilices funciones predefinidas por el usuario\n",
        "\n",
        "# Pedir al usuario que ingrese las dimensiones de la ventana\n",
        "alto = float(input(\"Ingrese el alto de la ventana en metros: \"))\n",
        "ancho = float(input(\"Ingrese el ancho de la ventana en metros: \"))\n",
        "\n",
        "# Calcular el área del vidrio\n",
        "area_vidrio = alto * ancho * 2 # Doble acristalamiento\n",
        "\n",
        "# Calcular la longitud de la madera\n",
        "# Convertir metros a pies\n",
        "pies_por_metro = 3.25\n",
        "longitud_madera_metros = (alto * 2) + (ancho * 2)\n",
        "longitud_madera_pies = longitud_madera_metros * pies_por_metro *3.25 # Multiplicar por 3.25 para convertir a pies\n",
        "\n",
        "# Imprimir los resultados\n",
        "print(\"Area de vidrio requerida:\", area_vidrio, \"metros cuadrados\")\n",
        "print(\"Longitud de madera requerida:\", longitud_madera_pies, \"pies\")\n",
        "\n",
        "# Verificar las restricciones\n",
        "if area_vidrio < 0 or longitud_madera_pies < 0:\n",
        "  print(\"Error: las dimensiones de la ventana deben ser positivas.\")\n"
      ],
      "metadata": {
        "id": "olhGJ7LE1LWl",
        "colab": {
          "base_uri": "https://localhost:8080/"
        },
        "outputId": "253e1979-9a41-4cc1-d8b1-f98704960a62"
      },
      "execution_count": 4,
      "outputs": [
        {
          "output_type": "stream",
          "name": "stdout",
          "text": [
            "Ingrese el alto de la ventana en metros: 2\n",
            "Ingrese el ancho de la ventana en metros: 1\n",
            "Area de vidrio requerida: 4.0 metros cuadrados\n",
            "Longitud de madera requerida: 63.375 pies\n"
          ]
        }
      ]
    },
    {
      "cell_type": "code",
      "source": [
        "# prompt: escribe el codigo anterior utilizando funciones predefinidas por el usuario\n",
        "\n",
        "import math\n",
        "\n",
        "def calcular_area_vidrio(alto, ancho):\n",
        "  \"\"\"Calcula el área de vidrio necesaria para una ventana de doble acristalamiento.\n",
        "\n",
        "  Args:\n",
        "    alto: El alto de la ventana en metros.\n",
        "    ancho: El ancho de la ventana en metros.\n",
        "\n",
        "  Returns:\n",
        "    El área del vidrio en metros cuadrados.\n",
        "  \"\"\"\n",
        "  return alto * ancho * 2\n",
        "\n",
        "def calcular_longitud_madera(alto, ancho):\n",
        "  \"\"\"Calcula la longitud de madera necesaria para el marco de una ventana.\n",
        "\n",
        "  Args:\n",
        "    alto: El alto de la ventana en metros.\n",
        "    ancho: El ancho de la ventana en metros.\n",
        "\n",
        "  Returns:\n",
        "    La longitud de la madera en pies.\n",
        "  \"\"\"\n",
        "  pies_por_metro = 3.25\n",
        "  longitud_madera_metros = (alto * 2) + (ancho * 2)\n",
        "  return longitud_madera_metros * pies_por_metro\n",
        "\n",
        "# Pedir al usuario que ingrese las dimensiones de la ventana\n",
        "alto = float(input(\"Ingrese el alto de la ventana en metros: \"))\n",
        "ancho = float(input(\"Ingrese el ancho de la ventana en metros: \"))\n",
        "\n",
        "# Calcular el área del vidrio y la longitud de la madera usando las funciones\n",
        "area_vidrio = calcular_area_vidrio(alto, ancho)\n",
        "longitud_madera = calcular_longitud_madera(alto, ancho)\n",
        "\n",
        "# Imprimir los resultados\n",
        "print(\"Area de vidrio requerida:\", area_vidrio, \"metros cuadrados\")\n",
        "print(\"Longitud de madera requerida:\", longitud_madera, \"pies\")\n",
        "\n",
        "# Verificar las restricciones\n",
        "if area_vidrio < 0 or longitud_madera < 0:\n",
        "  print(\"Error: las dimensiones de la ventana deben ser positivas.\")\n"
      ],
      "metadata": {
        "colab": {
          "base_uri": "https://localhost:8080/"
        },
        "id": "Pb9zzYMrmy_P",
        "outputId": "597f8ddb-7677-41e0-f363-e2f324212a9b"
      },
      "execution_count": 5,
      "outputs": [
        {
          "output_type": "stream",
          "name": "stdout",
          "text": [
            "Ingrese el alto de la ventana en metros: 2\n",
            "Ingrese el ancho de la ventana en metros: 1\n",
            "Area de vidrio requerida: 4.0 metros cuadrados\n",
            "Longitud de madera requerida: 19.5 pies\n"
          ]
        }
      ]
    },
    {
      "cell_type": "markdown",
      "source": [],
      "metadata": {
        "id": "23wbUBSsi9mf"
      }
    },
    {
      "cell_type": "markdown",
      "source": [
        "## Ejercicio 4 Construcción de Secadores Solares\n",
        "\n",
        "[EFICIENCIAS_SECADOR_SOLAR](https://docs.google.com/spreadsheets/d/1HOwH81S8jgQYQj9c3P-vpj0_gpliJlbo/edit?usp=sharing&ouid=115090580121117021820&rtpof=true&sd=true)\n",
        "\n",
        "La siguentes son las ecuciones para calcular las dimensiones de un secador solar tipo piramide a partir de su altura h y el angulo requerido, los angulos son:\n",
        "51.85, 43.0 y 68.0\n",
        "\n",
        "1. Calculo de base de la piramide\n",
        "\n",
        "$$base = \\frac{2 * h}{tan(alfa)}$$\n",
        "\n",
        "2. Calculo de la arista\n",
        "\n",
        "$$arista = \\sqrt{\\frac{base^2}{2}+h^2}$$\n",
        "\n",
        "3. Calculo de la apotema\n",
        "\n",
        "$$arista = \\sqrt{(\\frac{base}{2})^2+h^2}$$"
      ],
      "metadata": {
        "id": "CFl1j5SLMXcO"
      }
    },
    {
      "cell_type": "code",
      "source": [
        "# prompt: Escribe un coddigo en python que resuelva el ejercicio 4 cosntruccion de secadores solares, no utilices festructuras  repetitivas ni condiciones, funciones prdefinidas por el usuario\n",
        "\n",
        "import math\n",
        "\n",
        "# Pedir al usuario que ingrese la altura del secador\n",
        "h = float(input(\"Ingrese la altura del secador solar en metros: \"))\n",
        "\n",
        "# Calcular las dimensiones para cada ángulo\n",
        "base_51 = 2 * h / math.tan(math.radians(51.85))\n",
        "arista_51 = math.sqrt(base_51**2 / 2 + h**2)\n",
        "apotema_51 = math.sqrt((base_51 / 2)**2 + h**2)\n",
        "\n",
        "base_43 = 2 * h / math.tan(math.radians(43.0))\n",
        "arista_43 = math.sqrt(base_43**2 / 2 + h**2)\n",
        "apotema_43 = math.sqrt((base_43 / 2)**2 + h**2)\n",
        "\n",
        "base_68 = 2 * h / math.tan(math.radians(68.0))\n",
        "arista_68 = math.sqrt(base_68**2 / 2 + h**2)\n",
        "apotema_68 = math.sqrt((base_68 / 2)**2 + h**2)\n",
        "\n",
        "# Imprimir los resultados\n",
        "print(\"Para un ángulo de 51.85 grados:\")\n",
        "print(\"Base:\", base_51, \"metros\")\n",
        "print(\"Arista:\", arista_51, \"metros\")\n",
        "print(\"Apotema:\", apotema_51, \"metros\")\n",
        "\n",
        "print(\"Para un ángulo de 43.0 grados:\")\n",
        "print(\"Base:\", base_43, \"metros\")\n",
        "print(\"Arista:\", arista_43, \"metros\")\n",
        "print(\"Apotema:\", apotema_43, \"metros\")\n",
        "\n",
        "print(\"Para un ángulo de 68.0 grados:\")\n",
        "print(\"Base:\", base_68, \"metros\")\n",
        "print(\"Arista:\", arista_68, \"metros\")\n",
        "print(\"Apotema:\", apotema_68, \"metros\")\n",
        "\n"
      ],
      "metadata": {
        "id": "g_J7YAV11M3q",
        "colab": {
          "base_uri": "https://localhost:8080/"
        },
        "outputId": "82d423a0-13b2-4601-f06f-24e9d23370c7"
      },
      "execution_count": 6,
      "outputs": [
        {
          "output_type": "stream",
          "name": "stdout",
          "text": [
            "Ingrese la altura del secador solar en metros: 1\n",
            "Para un ángulo de 51.85 grados:\n",
            "Base: 1.571020627214876 metros\n",
            "Arista: 1.4946748494462971 metros\n",
            "Apotema: 1.2716235499485118 metros\n",
            "Para un ángulo de 43.0 grados:\n",
            "Base: 2.1447374200493647 metros\n",
            "Arista: 1.81657625782129 metros\n",
            "Apotema: 1.4662791856396247 metros\n",
            "Para un ángulo de 68.0 grados:\n",
            "Base: 0.8080524516703135 metros\n",
            "Arista: 1.1517266960200245 metros\n",
            "Apotema: 1.0785347426775835 metros\n"
          ]
        }
      ]
    },
    {
      "cell_type": "markdown",
      "source": [
        "## Ejercicio 5 Calculo del Factorial según la fórmula de Sterling\n",
        "\n",
        "FACTORIAL DE UN NÚMERO CON LA FÓRMULA DE STIRLING\n",
        "\n",
        "\n",
        "\n",
        "El factorial de un número n (escrito n!) es el número multiplicado por el factorial de sí mismo menos uno. Esta definición es más fácil de entender con un ejemplo. El factorial de 2 es 2 * 1. El factorial de 3 es 3 * 2 * 1. El factorial de 4 es 4 * 3 * 2 * 1, etcétera. Los factoriales crecen mucho y muy rápido. La fórmula de Stirling da una aproximación del factorial para valores grandes, la cual es\n",
        "\n",
        "\n",
        "\n",
        "La función  exp en el módulo math da el valor de e elevado a una potencia dada. Escriba un programa que calcule el factorial de 15 tanto de manera directa como con la fórmula de Stirling y que produzca ambos resultados junto con su diferencia.  \n",
        "\n",
        "![Stirling](https://polaridad.es/wp-content/uploads/2023/11/63c9bbb47a4a0c65a57405808b5b569a.jpg?ezimgfmt=ng%3Awebp%2Fngcb1%2Frs%3Adevice%2Frscb1-1)\n",
        "\n",
        "Requerirá\n",
        "\n",
        "usar el tipo float para este cálculo. Asegúrese de usar el formato adecuado y los comentarios apropiados en su código. El resultado debe estar marcado con claridad y tener un formato nítido.\n",
        "\n",
        "\n",
        "\n"
      ],
      "metadata": {
        "id": "shS7DewDFWvZ"
      }
    },
    {
      "cell_type": "code",
      "source": [],
      "metadata": {
        "id": "4HcgbVMB2GYW"
      },
      "execution_count": null,
      "outputs": []
    }
  ]
}